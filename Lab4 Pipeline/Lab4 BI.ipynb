{
 "cells": [
  {
   "cell_type": "markdown",
   "id": "801917ec",
   "metadata": {},
   "source": [
    "# Laboratorio 4 BI"
   ]
  },
  {
   "cell_type": "markdown",
   "id": "bc6ba77c",
   "metadata": {},
   "source": [
    "### Integrantes:\n",
    "### Luisa Fernanda Fuentes Ladino - 202014321\n",
    "### Andrés Felipe Lugo Saavedra - 202012538"
   ]
  },
  {
   "cell_type": "code",
   "execution_count": 113,
   "id": "934a9699",
   "metadata": {},
   "outputs": [],
   "source": [
    "seed = 161\n",
    "import pandas as pd\n",
    "import numpy as np\n",
    "import matplotlib.pyplot as plt\n",
    "import seaborn as sns\n",
    "\n",
    "# Composicion de pipelines\n",
    "from sklearn.compose import ColumnTransformer\n",
    "from sklearn.pipeline import Pipeline\n",
    "from sklearn.impute import SimpleImputer\n",
    "from sklearn.preprocessing import PolynomialFeatures\n",
    "from sklearn.preprocessing import MinMaxScaler\n",
    "\n",
    "# Regresion lineal\n",
    "from sklearn.linear_model import LinearRegression\n",
    "\n",
    "# Importar/ Exportar modelos\n",
    "from joblib import dump, load\n",
    "\n",
    "# Metricas\n",
    "from sklearn.metrics import mean_squared_error as mse\n",
    "\n",
    "# q-q plots\n",
    "import scipy.stats as stats"
   ]
  },
  {
   "cell_type": "markdown",
   "id": "71574ba5",
   "metadata": {},
   "source": [
    "# Carga de datos"
   ]
  },
  {
   "cell_type": "code",
   "execution_count": 114,
   "id": "1122a24f",
   "metadata": {},
   "outputs": [
    {
     "name": "stdout",
     "output_type": "stream",
     "text": [
      "(1569, 10)\n"
     ]
    },
    {
     "data": {
      "text/html": [
       "<div>\n",
       "<style scoped>\n",
       "    .dataframe tbody tr th:only-of-type {\n",
       "        vertical-align: middle;\n",
       "    }\n",
       "\n",
       "    .dataframe tbody tr th {\n",
       "        vertical-align: top;\n",
       "    }\n",
       "\n",
       "    .dataframe thead th {\n",
       "        text-align: right;\n",
       "    }\n",
       "</style>\n",
       "<table border=\"1\" class=\"dataframe\">\n",
       "  <thead>\n",
       "    <tr style=\"text-align: right;\">\n",
       "      <th></th>\n",
       "      <th>Unnamed: 0</th>\n",
       "      <th>Serial No.</th>\n",
       "      <th>GRE Score</th>\n",
       "      <th>TOEFL Score</th>\n",
       "      <th>University Rating</th>\n",
       "      <th>SOP</th>\n",
       "      <th>LOR</th>\n",
       "      <th>CGPA</th>\n",
       "      <th>Research</th>\n",
       "      <th>Admission Points</th>\n",
       "    </tr>\n",
       "  </thead>\n",
       "  <tbody>\n",
       "    <tr>\n",
       "      <th>0</th>\n",
       "      <td>0</td>\n",
       "      <td>479</td>\n",
       "      <td>327</td>\n",
       "      <td>113</td>\n",
       "      <td>4</td>\n",
       "      <td>4.00</td>\n",
       "      <td>2.77</td>\n",
       "      <td>8.88</td>\n",
       "      <td>1</td>\n",
       "      <td>84.47</td>\n",
       "    </tr>\n",
       "    <tr>\n",
       "      <th>1</th>\n",
       "      <td>1</td>\n",
       "      <td>446</td>\n",
       "      <td>301</td>\n",
       "      <td>92</td>\n",
       "      <td>1</td>\n",
       "      <td>1.85</td>\n",
       "      <td>1.50</td>\n",
       "      <td>7.71</td>\n",
       "      <td>0</td>\n",
       "      <td>45.08</td>\n",
       "    </tr>\n",
       "    <tr>\n",
       "      <th>2</th>\n",
       "      <td>2</td>\n",
       "      <td>336</td>\n",
       "      <td>297</td>\n",
       "      <td>100</td>\n",
       "      <td>1</td>\n",
       "      <td>2.41</td>\n",
       "      <td>1.59</td>\n",
       "      <td>7.89</td>\n",
       "      <td>0</td>\n",
       "      <td>47.42</td>\n",
       "    </tr>\n",
       "    <tr>\n",
       "      <th>3</th>\n",
       "      <td>3</td>\n",
       "      <td>20</td>\n",
       "      <td>303</td>\n",
       "      <td>98</td>\n",
       "      <td>3</td>\n",
       "      <td>3.50</td>\n",
       "      <td>3.00</td>\n",
       "      <td>8.50</td>\n",
       "      <td>0</td>\n",
       "      <td>62.00</td>\n",
       "    </tr>\n",
       "    <tr>\n",
       "      <th>4</th>\n",
       "      <td>4</td>\n",
       "      <td>432</td>\n",
       "      <td>320</td>\n",
       "      <td>94</td>\n",
       "      <td>2</td>\n",
       "      <td>1.38</td>\n",
       "      <td>3.50</td>\n",
       "      <td>8.78</td>\n",
       "      <td>1</td>\n",
       "      <td>73.00</td>\n",
       "    </tr>\n",
       "  </tbody>\n",
       "</table>\n",
       "</div>"
      ],
      "text/plain": [
       "   Unnamed: 0  Serial No.  GRE Score  TOEFL Score  University Rating   SOP  \\\n",
       "0           0         479        327          113                  4  4.00   \n",
       "1           1         446        301           92                  1  1.85   \n",
       "2           2         336        297          100                  1  2.41   \n",
       "3           3          20        303           98                  3  3.50   \n",
       "4           4         432        320           94                  2  1.38   \n",
       "\n",
       "   LOR   CGPA  Research  Admission Points  \n",
       "0  2.77  8.88         1             84.47  \n",
       "1  1.50  7.71         0             45.08  \n",
       "2  1.59  7.89         0             47.42  \n",
       "3  3.00  8.50         0             62.00  \n",
       "4  3.50  8.78         1             73.00  "
      ]
     },
     "execution_count": 114,
     "metadata": {},
     "output_type": "execute_result"
    }
   ],
   "source": [
    "# Se cargan los datos. \n",
    "df_original = pd.read_csv('202220_Laboratorio_3_data_university_admission_train.csv')\n",
    "df_train = df_original.copy()\n",
    "print(df_train.shape)\n",
    "df_train.head(5)"
   ]
  },
  {
   "cell_type": "code",
   "execution_count": 115,
   "id": "f165a243",
   "metadata": {},
   "outputs": [
    {
     "name": "stdout",
     "output_type": "stream",
     "text": [
      "(175, 8)\n"
     ]
    },
    {
     "data": {
      "text/html": [
       "<div>\n",
       "<style scoped>\n",
       "    .dataframe tbody tr th:only-of-type {\n",
       "        vertical-align: middle;\n",
       "    }\n",
       "\n",
       "    .dataframe tbody tr th {\n",
       "        vertical-align: top;\n",
       "    }\n",
       "\n",
       "    .dataframe thead th {\n",
       "        text-align: right;\n",
       "    }\n",
       "</style>\n",
       "<table border=\"1\" class=\"dataframe\">\n",
       "  <thead>\n",
       "    <tr style=\"text-align: right;\">\n",
       "      <th></th>\n",
       "      <th>Serial No.</th>\n",
       "      <th>GRE Score</th>\n",
       "      <th>TOEFL Score</th>\n",
       "      <th>University Rating</th>\n",
       "      <th>SOP</th>\n",
       "      <th>LOR</th>\n",
       "      <th>CGPA</th>\n",
       "      <th>Research</th>\n",
       "    </tr>\n",
       "  </thead>\n",
       "  <tbody>\n",
       "    <tr>\n",
       "      <th>0</th>\n",
       "      <td>117</td>\n",
       "      <td>299</td>\n",
       "      <td>102</td>\n",
       "      <td>3</td>\n",
       "      <td>4.0</td>\n",
       "      <td>3.5</td>\n",
       "      <td>8.62</td>\n",
       "      <td>0</td>\n",
       "    </tr>\n",
       "    <tr>\n",
       "      <th>1</th>\n",
       "      <td>49</td>\n",
       "      <td>321</td>\n",
       "      <td>110</td>\n",
       "      <td>3</td>\n",
       "      <td>3.5</td>\n",
       "      <td>5.0</td>\n",
       "      <td>8.85</td>\n",
       "      <td>1</td>\n",
       "    </tr>\n",
       "    <tr>\n",
       "      <th>2</th>\n",
       "      <td>94</td>\n",
       "      <td>301</td>\n",
       "      <td>97</td>\n",
       "      <td>2</td>\n",
       "      <td>3.0</td>\n",
       "      <td>3.0</td>\n",
       "      <td>7.88</td>\n",
       "      <td>1</td>\n",
       "    </tr>\n",
       "    <tr>\n",
       "      <th>3</th>\n",
       "      <td>108</td>\n",
       "      <td>338</td>\n",
       "      <td>117</td>\n",
       "      <td>4</td>\n",
       "      <td>3.5</td>\n",
       "      <td>4.5</td>\n",
       "      <td>9.46</td>\n",
       "      <td>1</td>\n",
       "    </tr>\n",
       "    <tr>\n",
       "      <th>4</th>\n",
       "      <td>327</td>\n",
       "      <td>299</td>\n",
       "      <td>100</td>\n",
       "      <td>3</td>\n",
       "      <td>2.0</td>\n",
       "      <td>2.0</td>\n",
       "      <td>8.02</td>\n",
       "      <td>0</td>\n",
       "    </tr>\n",
       "  </tbody>\n",
       "</table>\n",
       "</div>"
      ],
      "text/plain": [
       "   Serial No.  GRE Score  TOEFL Score  University Rating  SOP  LOR   CGPA  \\\n",
       "0         117        299          102                  3  4.0   3.5  8.62   \n",
       "1          49        321          110                  3  3.5   5.0  8.85   \n",
       "2          94        301           97                  2  3.0   3.0  7.88   \n",
       "3         108        338          117                  4  3.5   4.5  9.46   \n",
       "4         327        299          100                  3  2.0   2.0  8.02   \n",
       "\n",
       "   Research  \n",
       "0         0  \n",
       "1         1  \n",
       "2         1  \n",
       "3         1  \n",
       "4         0  "
      ]
     },
     "execution_count": 115,
     "metadata": {},
     "output_type": "execute_result"
    }
   ],
   "source": [
    "df_test = pd.read_csv('202220_Laboratorio_3_data_university_admission_test.csv')\n",
    "print(df_test.shape)\n",
    "df_test.head(5)"
   ]
  },
  {
   "cell_type": "markdown",
   "id": "34f4a283",
   "metadata": {},
   "source": [
    "## Limpieza de datos, se eliminarán los valores nulos, los duplicados y las columnas que no aportan información valiosa a la regresión (Serial No y Unnamed)"
   ]
  },
  {
   "cell_type": "code",
   "execution_count": 116,
   "id": "50639511",
   "metadata": {},
   "outputs": [
    {
     "data": {
      "text/html": [
       "<div>\n",
       "<style scoped>\n",
       "    .dataframe tbody tr th:only-of-type {\n",
       "        vertical-align: middle;\n",
       "    }\n",
       "\n",
       "    .dataframe tbody tr th {\n",
       "        vertical-align: top;\n",
       "    }\n",
       "\n",
       "    .dataframe thead th {\n",
       "        text-align: right;\n",
       "    }\n",
       "</style>\n",
       "<table border=\"1\" class=\"dataframe\">\n",
       "  <thead>\n",
       "    <tr style=\"text-align: right;\">\n",
       "      <th></th>\n",
       "      <th>Serial No.</th>\n",
       "      <th>GRE Score</th>\n",
       "      <th>TOEFL Score</th>\n",
       "      <th>University Rating</th>\n",
       "      <th>SOP</th>\n",
       "      <th>LOR</th>\n",
       "      <th>CGPA</th>\n",
       "      <th>Research</th>\n",
       "      <th>Admission Points</th>\n",
       "    </tr>\n",
       "  </thead>\n",
       "  <tbody>\n",
       "    <tr>\n",
       "      <th>0</th>\n",
       "      <td>479</td>\n",
       "      <td>327</td>\n",
       "      <td>113</td>\n",
       "      <td>4</td>\n",
       "      <td>4.00</td>\n",
       "      <td>2.77</td>\n",
       "      <td>8.88</td>\n",
       "      <td>1</td>\n",
       "      <td>84.47</td>\n",
       "    </tr>\n",
       "    <tr>\n",
       "      <th>1</th>\n",
       "      <td>446</td>\n",
       "      <td>301</td>\n",
       "      <td>92</td>\n",
       "      <td>1</td>\n",
       "      <td>1.85</td>\n",
       "      <td>1.50</td>\n",
       "      <td>7.71</td>\n",
       "      <td>0</td>\n",
       "      <td>45.08</td>\n",
       "    </tr>\n",
       "    <tr>\n",
       "      <th>2</th>\n",
       "      <td>336</td>\n",
       "      <td>297</td>\n",
       "      <td>100</td>\n",
       "      <td>1</td>\n",
       "      <td>2.41</td>\n",
       "      <td>1.59</td>\n",
       "      <td>7.89</td>\n",
       "      <td>0</td>\n",
       "      <td>47.42</td>\n",
       "    </tr>\n",
       "    <tr>\n",
       "      <th>3</th>\n",
       "      <td>20</td>\n",
       "      <td>303</td>\n",
       "      <td>98</td>\n",
       "      <td>3</td>\n",
       "      <td>3.50</td>\n",
       "      <td>3.00</td>\n",
       "      <td>8.50</td>\n",
       "      <td>0</td>\n",
       "      <td>62.00</td>\n",
       "    </tr>\n",
       "    <tr>\n",
       "      <th>4</th>\n",
       "      <td>432</td>\n",
       "      <td>320</td>\n",
       "      <td>94</td>\n",
       "      <td>2</td>\n",
       "      <td>1.38</td>\n",
       "      <td>3.50</td>\n",
       "      <td>8.78</td>\n",
       "      <td>1</td>\n",
       "      <td>73.00</td>\n",
       "    </tr>\n",
       "  </tbody>\n",
       "</table>\n",
       "</div>"
      ],
      "text/plain": [
       "   Serial No.  GRE Score  TOEFL Score  University Rating   SOP  LOR   CGPA  \\\n",
       "0         479        327          113                  4  4.00  2.77  8.88   \n",
       "1         446        301           92                  1  1.85  1.50  7.71   \n",
       "2         336        297          100                  1  2.41  1.59  7.89   \n",
       "3          20        303           98                  3  3.50  3.00  8.50   \n",
       "4         432        320           94                  2  1.38  3.50  8.78   \n",
       "\n",
       "   Research  Admission Points  \n",
       "0         1             84.47  \n",
       "1         0             45.08  \n",
       "2         0             47.42  \n",
       "3         0             62.00  \n",
       "4         1             73.00  "
      ]
     },
     "execution_count": 116,
     "metadata": {},
     "output_type": "execute_result"
    }
   ],
   "source": [
    "df_train_l=df_train.copy()\n",
    "\n",
    "df_train_l = df_train_l.dropna()\n",
    "df_train_l = df_train_l.drop_duplicates()\n",
    "\n",
    "df_train_l = df_train_l.drop(['Unnamed: 0'], axis=1)\n",
    "\n",
    "df_train_l.head()"
   ]
  },
  {
   "cell_type": "markdown",
   "id": "5df5d1ae",
   "metadata": {},
   "source": [
    "# Implementación de la Regresión Lineal"
   ]
  },
  {
   "cell_type": "code",
   "execution_count": 117,
   "id": "0edcad7b",
   "metadata": {},
   "outputs": [],
   "source": [
    "# Se usa un transformador para seleccionar unicamente las columnas que se quieren usar\n",
    "selected_cols = ['Serial No.','GRE Score','TOEFL Score','University Rating','SOP','CGPA','Research']\n",
    "\n",
    "pre = [('initial',ColumnTransformer([(\"selector\", 'passthrough',selected_cols)])),]"
   ]
  },
  {
   "cell_type": "code",
   "execution_count": 118,
   "id": "4565baf0",
   "metadata": {},
   "outputs": [],
   "source": [
    "# Creación del modelo\n",
    "model = [('model', LinearRegression())]"
   ]
  },
  {
   "cell_type": "code",
   "execution_count": 119,
   "id": "85f95ceb",
   "metadata": {},
   "outputs": [],
   "source": [
    "# Declara el pipeline\n",
    "pipeline = Pipeline(pre+model)"
   ]
  },
  {
   "cell_type": "code",
   "execution_count": 120,
   "id": "b2ea6f6d",
   "metadata": {},
   "outputs": [],
   "source": [
    "# Extraemos las variables explicativas y objetivo para entrenar\n",
    "X = df_train_l.drop('Admission Points', axis = 1)\n",
    "y = df_train_l['Admission Points']\n",
    "\n",
    "pipeline = pipeline.fit(X,y)"
   ]
  },
  {
   "cell_type": "markdown",
   "id": "29bc2ff7",
   "metadata": {},
   "source": [
    "# Exportar e Importar el Modelo"
   ]
  },
  {
   "cell_type": "code",
   "execution_count": 121,
   "id": "e54e12af",
   "metadata": {},
   "outputs": [
    {
     "data": {
      "text/plain": [
       "Pipeline(steps=[('initial',\n",
       "                 ColumnTransformer(transformers=[('selector', 'passthrough',\n",
       "                                                  ['Serial No.', 'GRE Score',\n",
       "                                                   'TOEFL Score',\n",
       "                                                   'University Rating', 'SOP',\n",
       "                                                   'CGPA', 'Research'])])),\n",
       "                ('model', LinearRegression())])"
      ]
     },
     "execution_count": 121,
     "metadata": {},
     "output_type": "execute_result"
    }
   ],
   "source": [
    "# Usamos la lbreria joblib\n",
    "filename = 'modelo.joblib'\n",
    "# Se guarda\n",
    "dump(pipeline, filename) \n",
    "# Se lee\n",
    "p2 = load(filename)\n",
    "p2"
   ]
  },
  {
   "cell_type": "code",
   "execution_count": 122,
   "id": "4ccd4db5",
   "metadata": {},
   "outputs": [
    {
     "data": {
      "text/html": [
       "<div>\n",
       "<style scoped>\n",
       "    .dataframe tbody tr th:only-of-type {\n",
       "        vertical-align: middle;\n",
       "    }\n",
       "\n",
       "    .dataframe tbody tr th {\n",
       "        vertical-align: top;\n",
       "    }\n",
       "\n",
       "    .dataframe thead th {\n",
       "        text-align: right;\n",
       "    }\n",
       "</style>\n",
       "<table border=\"1\" class=\"dataframe\">\n",
       "  <thead>\n",
       "    <tr style=\"text-align: right;\">\n",
       "      <th></th>\n",
       "      <th>Serial No.</th>\n",
       "      <th>GRE Score</th>\n",
       "      <th>TOEFL Score</th>\n",
       "      <th>University Rating</th>\n",
       "      <th>SOP</th>\n",
       "      <th>LOR</th>\n",
       "      <th>CGPA</th>\n",
       "      <th>Research</th>\n",
       "    </tr>\n",
       "  </thead>\n",
       "  <tbody>\n",
       "    <tr>\n",
       "      <th>0</th>\n",
       "      <td>117</td>\n",
       "      <td>299</td>\n",
       "      <td>102</td>\n",
       "      <td>3</td>\n",
       "      <td>4.0</td>\n",
       "      <td>3.5</td>\n",
       "      <td>8.62</td>\n",
       "      <td>0</td>\n",
       "    </tr>\n",
       "    <tr>\n",
       "      <th>1</th>\n",
       "      <td>49</td>\n",
       "      <td>321</td>\n",
       "      <td>110</td>\n",
       "      <td>3</td>\n",
       "      <td>3.5</td>\n",
       "      <td>5.0</td>\n",
       "      <td>8.85</td>\n",
       "      <td>1</td>\n",
       "    </tr>\n",
       "    <tr>\n",
       "      <th>2</th>\n",
       "      <td>94</td>\n",
       "      <td>301</td>\n",
       "      <td>97</td>\n",
       "      <td>2</td>\n",
       "      <td>3.0</td>\n",
       "      <td>3.0</td>\n",
       "      <td>7.88</td>\n",
       "      <td>1</td>\n",
       "    </tr>\n",
       "    <tr>\n",
       "      <th>3</th>\n",
       "      <td>108</td>\n",
       "      <td>338</td>\n",
       "      <td>117</td>\n",
       "      <td>4</td>\n",
       "      <td>3.5</td>\n",
       "      <td>4.5</td>\n",
       "      <td>9.46</td>\n",
       "      <td>1</td>\n",
       "    </tr>\n",
       "    <tr>\n",
       "      <th>4</th>\n",
       "      <td>327</td>\n",
       "      <td>299</td>\n",
       "      <td>100</td>\n",
       "      <td>3</td>\n",
       "      <td>2.0</td>\n",
       "      <td>2.0</td>\n",
       "      <td>8.02</td>\n",
       "      <td>0</td>\n",
       "    </tr>\n",
       "  </tbody>\n",
       "</table>\n",
       "</div>"
      ],
      "text/plain": [
       "   Serial No.  GRE Score  TOEFL Score  University Rating  SOP  LOR   CGPA  \\\n",
       "0         117        299          102                  3  4.0   3.5  8.62   \n",
       "1          49        321          110                  3  3.5   5.0  8.85   \n",
       "2          94        301           97                  2  3.0   3.0  7.88   \n",
       "3         108        338          117                  4  3.5   4.5  9.46   \n",
       "4         327        299          100                  3  2.0   2.0  8.02   \n",
       "\n",
       "   Research  \n",
       "0         0  \n",
       "1         1  \n",
       "2         1  \n",
       "3         1  \n",
       "4         0  "
      ]
     },
     "execution_count": 122,
     "metadata": {},
     "output_type": "execute_result"
    }
   ],
   "source": [
    "df_test_c=df_test.copy()\n",
    "df_test_c.head()"
   ]
  },
  {
   "cell_type": "code",
   "execution_count": 123,
   "id": "1baae514",
   "metadata": {},
   "outputs": [],
   "source": [
    "# Clasificamos los datos de test\n",
    "df_test_c['Admission Points'] = p2.predict(df_test_c)"
   ]
  },
  {
   "cell_type": "code",
   "execution_count": 124,
   "id": "ce527e3a",
   "metadata": {},
   "outputs": [
    {
     "data": {
      "text/plain": [
       "<AxesSubplot:xlabel='Admission Points', ylabel='Count'>"
      ]
     },
     "execution_count": 124,
     "metadata": {},
     "output_type": "execute_result"
    },
    {
     "data": {
      "image/png": "[encoded data removed]",
      "text/plain": [
       "<Figure size 640x480 with 1 Axes>"
      ]
     },
     "metadata": {},
     "output_type": "display_data"
    }
   ],
   "source": [
    "sns.histplot(df_test_c['Admission Points'])"
   ]
  }
 ],
 "metadata": {
  "kernelspec": {
   "display_name": "Python 3.7.7 64-bit",
   "language": "python",
   "name": "python3"
  },
  "language_info": {
   "codemirror_mode": {
    "name": "ipython",
    "version": 3
   },
   "file_extension": ".py",
   "mimetype": "text/x-python",
   "name": "python",
   "nbconvert_exporter": "python",
   "pygments_lexer": "ipython3",
   "version": "3.7.7"
  },
  "vscode": {
   "interpreter": {
    "hash": "7a32eb4390f9bb72514d0e71928e792c838e00872818ae6da76cc4e20d75f488"
   }
  }
 },
 "nbformat": 4,
 "nbformat_minor": 5
}
